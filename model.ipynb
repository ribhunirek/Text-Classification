{
 "cells": [
  {
   "cell_type": "code",
   "execution_count": 102,
   "metadata": {},
   "outputs": [],
   "source": [
    "import tensorflow as tf\n",
    "import numpy as np\n",
    "import pickle as pkl\n",
    "import tensorflow.keras as keras\n",
    "from sklearn.model_selection import train_test_split"
   ]
  },
  {
   "cell_type": "code",
   "execution_count": 103,
   "metadata": {},
   "outputs": [],
   "source": [
    "with open('Word2id', 'rb') as f:\n",
    "    word2id = pkl.load(f)\n",
    "    f.close()\n",
    "\n",
    "with open('Labels', 'rb') as f:\n",
    "    label = pkl.load(f)\n",
    "    f.close()\n",
    "\n",
    "with open('Fixed_Lenth_Data', 'rb') as f:\n",
    "    data = pkl.load(f)\n",
    "    f.close()"
   ]
  },
  {
   "cell_type": "code",
   "execution_count": 4,
   "metadata": {},
   "outputs": [],
   "source": [
    "with open('Embeddings', 'rb') as f:\n",
    "    emb = pkl.load(f)\n",
    "    f.close()"
   ]
  },
  {
   "cell_type": "code",
   "execution_count": 104,
   "metadata": {},
   "outputs": [],
   "source": [
    "emb = np.asarray(emb)"
   ]
  },
  {
   "cell_type": "code",
   "execution_count": 105,
   "metadata": {},
   "outputs": [],
   "source": [
    "emb_mat = np.zeros((len(word2id), 50))"
   ]
  },
  {
   "cell_type": "code",
   "execution_count": 106,
   "metadata": {},
   "outputs": [
    {
     "data": {
      "text/plain": [
       "(400543, 50)"
      ]
     },
     "execution_count": 106,
     "metadata": {},
     "output_type": "execute_result"
    }
   ],
   "source": [
    "emb_mat.shape"
   ]
  },
  {
   "cell_type": "code",
   "execution_count": 107,
   "metadata": {},
   "outputs": [
    {
     "data": {
      "text/plain": [
       "(400543, 50)"
      ]
     },
     "execution_count": 107,
     "metadata": {},
     "output_type": "execute_result"
    }
   ],
   "source": [
    "emb.shape"
   ]
  },
  {
   "cell_type": "code",
   "execution_count": 108,
   "metadata": {},
   "outputs": [
    {
     "data": {
      "text/plain": [
       "400543"
      ]
     },
     "execution_count": 108,
     "metadata": {},
     "output_type": "execute_result"
    }
   ],
   "source": [
    "len(word2id)"
   ]
  },
  {
   "cell_type": "code",
   "execution_count": 109,
   "metadata": {},
   "outputs": [],
   "source": [
    "ndim = 50\n",
    "sen_len = 10\n",
    "emb_layer = keras.layers.Embedding(400543, ndim, weights=[emb], input_length=sen_len, trainable=True)"
   ]
  },
  {
   "cell_type": "code",
   "execution_count": 110,
   "metadata": {},
   "outputs": [
    {
     "data": {
      "text/plain": [
       "<tensorflow.python.keras.layers.embeddings.Embedding at 0x14e186b38>"
      ]
     },
     "execution_count": 110,
     "metadata": {},
     "output_type": "execute_result"
    }
   ],
   "source": [
    "emb_layer"
   ]
  },
  {
   "cell_type": "code",
   "execution_count": 111,
   "metadata": {},
   "outputs": [
    {
     "data": {
      "text/plain": [
       "int"
      ]
     },
     "execution_count": 111,
     "metadata": {},
     "output_type": "execute_result"
    }
   ],
   "source": [
    "type(data[0][0])"
   ]
  },
  {
   "cell_type": "code",
   "execution_count": 112,
   "metadata": {},
   "outputs": [],
   "source": [
    "input_sentence = keras.Input(shape=(sen_len,), dtype = 'int32')"
   ]
  },
  {
   "cell_type": "code",
   "execution_count": 113,
   "metadata": {},
   "outputs": [
    {
     "data": {
      "text/plain": [
       "<tf.Tensor 'input_8:0' shape=(None, 10) dtype=int32>"
      ]
     },
     "execution_count": 113,
     "metadata": {},
     "output_type": "execute_result"
    }
   ],
   "source": [
    "input_sentence"
   ]
  },
  {
   "cell_type": "code",
   "execution_count": 114,
   "metadata": {},
   "outputs": [],
   "source": [
    "input_sequence = emb_layer(input_sentence)"
   ]
  },
  {
   "cell_type": "code",
   "execution_count": 115,
   "metadata": {},
   "outputs": [
    {
     "data": {
      "text/plain": [
       "<tf.Tensor 'embedding_5/Identity:0' shape=(None, 10, 50) dtype=float32>"
      ]
     },
     "execution_count": 115,
     "metadata": {},
     "output_type": "execute_result"
    }
   ],
   "source": [
    "input_sequence"
   ]
  },
  {
   "cell_type": "code",
   "execution_count": 116,
   "metadata": {},
   "outputs": [],
   "source": [
    "lstm1 = keras.layers.Bidirectional(keras.layers.LSTM(50, return_sequences=True))(input_sequence)"
   ]
  },
  {
   "cell_type": "code",
   "execution_count": 117,
   "metadata": {},
   "outputs": [
    {
     "data": {
      "text/plain": [
       "<tf.Tensor 'bidirectional_12/Identity:0' shape=(None, 10, 100) dtype=float32>"
      ]
     },
     "execution_count": 117,
     "metadata": {},
     "output_type": "execute_result"
    }
   ],
   "source": [
    "lstm1"
   ]
  },
  {
   "cell_type": "code",
   "execution_count": 118,
   "metadata": {},
   "outputs": [],
   "source": [
    "lstm2 = keras.layers.Bidirectional(keras.layers.LSTM(50, return_sequences=True))([lstm1])"
   ]
  },
  {
   "cell_type": "code",
   "execution_count": 119,
   "metadata": {},
   "outputs": [],
   "source": [
    "sentence_vector = keras.layers.Flatten()(lstm2)"
   ]
  },
  {
   "cell_type": "code",
   "execution_count": 120,
   "metadata": {},
   "outputs": [
    {
     "data": {
      "text/plain": [
       "<tf.Tensor 'flatten_3/Identity:0' shape=(None, 1000) dtype=float32>"
      ]
     },
     "execution_count": 120,
     "metadata": {},
     "output_type": "execute_result"
    }
   ],
   "source": [
    "sentence_vector"
   ]
  },
  {
   "cell_type": "code",
   "execution_count": 121,
   "metadata": {},
   "outputs": [],
   "source": [
    "fc1 = keras.layers.Dense(500)(sentence_vector)"
   ]
  },
  {
   "cell_type": "code",
   "execution_count": 122,
   "metadata": {},
   "outputs": [
    {
     "data": {
      "text/plain": [
       "<tf.Tensor 'dense_7/Identity:0' shape=(None, 500) dtype=float32>"
      ]
     },
     "execution_count": 122,
     "metadata": {},
     "output_type": "execute_result"
    }
   ],
   "source": [
    "fc1"
   ]
  },
  {
   "cell_type": "code",
   "execution_count": 123,
   "metadata": {},
   "outputs": [],
   "source": [
    "fc2 = keras.layers.Dense(100)(fc1)"
   ]
  },
  {
   "cell_type": "code",
   "execution_count": 124,
   "metadata": {},
   "outputs": [
    {
     "data": {
      "text/plain": [
       "<tf.Tensor 'dense_8/Identity:0' shape=(None, 100) dtype=float32>"
      ]
     },
     "execution_count": 124,
     "metadata": {},
     "output_type": "execute_result"
    }
   ],
   "source": [
    "fc2"
   ]
  },
  {
   "cell_type": "code",
   "execution_count": 125,
   "metadata": {},
   "outputs": [],
   "source": [
    "output = keras.layers.Dense(4, activation='softmax')(fc2)"
   ]
  },
  {
   "cell_type": "code",
   "execution_count": 126,
   "metadata": {},
   "outputs": [
    {
     "data": {
      "text/plain": [
       "<tf.Tensor 'dense_9/Identity:0' shape=(None, 4) dtype=float32>"
      ]
     },
     "execution_count": 126,
     "metadata": {},
     "output_type": "execute_result"
    }
   ],
   "source": [
    "output"
   ]
  },
  {
   "cell_type": "code",
   "execution_count": 127,
   "metadata": {},
   "outputs": [],
   "source": [
    "model = keras.Model(input_sentence, output)"
   ]
  },
  {
   "cell_type": "code",
   "execution_count": 128,
   "metadata": {},
   "outputs": [],
   "source": [
    "model.compile(loss='sparse_categorical_crossentropy', optimizer='adam', metrics=['acc'])"
   ]
  },
  {
   "cell_type": "code",
   "execution_count": 133,
   "metadata": {},
   "outputs": [],
   "source": [
    "x_train, x_test, y_train, y_test = train_test_split(data, label, shuffle=True, stratify=label, random_state = 0, test_size = 0.2)"
   ]
  },
  {
   "cell_type": "code",
   "execution_count": 134,
   "metadata": {},
   "outputs": [
    {
     "data": {
      "text/plain": [
       "6080"
      ]
     },
     "execution_count": 134,
     "metadata": {},
     "output_type": "execute_result"
    }
   ],
   "source": [
    "len(x_train)"
   ]
  },
  {
   "cell_type": "code",
   "execution_count": 135,
   "metadata": {},
   "outputs": [
    {
     "data": {
      "text/plain": [
       "6080"
      ]
     },
     "execution_count": 135,
     "metadata": {},
     "output_type": "execute_result"
    }
   ],
   "source": [
    "len(y_train)"
   ]
  },
  {
   "cell_type": "code",
   "execution_count": 138,
   "metadata": {},
   "outputs": [
    {
     "name": "stdout",
     "output_type": "stream",
     "text": [
      "Train on 4864 samples\n",
      "4864/4864 [==============================] - 19s 4ms/sample - loss: 0.4520 - acc: 0.8403\n",
      "1216/1216 [==============================] - 1s 1ms/sample - loss: 0.5039 - acc: 0.8281\n",
      "Train on 4864 samples\n",
      "4864/4864 [==============================] - 18s 4ms/sample - loss: 0.4011 - acc: 0.8627\n",
      "1216/1216 [==============================] - 0s 183us/sample - loss: 0.4084 - acc: 0.8602\n",
      "Train on 4864 samples\n",
      "4864/4864 [==============================] - 18s 4ms/sample - loss: 0.3420 - acc: 0.8820\n",
      "1216/1216 [==============================] - 0s 184us/sample - loss: 0.3099 - acc: 0.8956\n",
      "Train on 4864 samples\n",
      "4864/4864 [==============================] - 18s 4ms/sample - loss: 0.2801 - acc: 0.9034\n",
      "1216/1216 [==============================] - 0s 182us/sample - loss: 0.2935 - acc: 0.9005\n",
      "Train on 4864 samples\n",
      "4864/4864 [==============================] - 18s 4ms/sample - loss: 0.2368 - acc: 0.9194\n",
      "1216/1216 [==============================] - 0s 183us/sample - loss: 0.1902 - acc: 0.9383\n",
      "Train on 4864 samples\n",
      "4864/4864 [==============================] - 18s 4ms/sample - loss: 0.1728 - acc: 0.9402\n",
      "1216/1216 [==============================] - 0s 184us/sample - loss: 0.2034 - acc: 0.9186\n",
      "Train on 4864 samples\n",
      "4864/4864 [==============================] - 18s 4ms/sample - loss: 0.1356 - acc: 0.9502\n",
      "1216/1216 [==============================] - 0s 180us/sample - loss: 0.0849 - acc: 0.9704\n",
      "Train on 4864 samples\n",
      "4864/4864 [==============================] - 18s 4ms/sample - loss: 0.0905 - acc: 0.9685\n",
      "1216/1216 [==============================] - 0s 180us/sample - loss: 0.1137 - acc: 0.9638\n",
      "Train on 4864 samples\n",
      "4864/4864 [==============================] - 18s 4ms/sample - loss: 0.0698 - acc: 0.9776\n",
      "1216/1216 [==============================] - 0s 183us/sample - loss: 0.0514 - acc: 0.9844\n",
      "Train on 4864 samples\n",
      "4864/4864 [==============================] - 18s 4ms/sample - loss: 0.0602 - acc: 0.9829\n",
      "1216/1216 [==============================] - 0s 182us/sample - loss: 0.0240 - acc: 0.9901\n"
     ]
    }
   ],
   "source": [
    "for i in range(10):\n",
    "    x_temp, x_val, y_temp, y_val = train_test_split(x_train, y_train, shuffle=True, stratify=y_train, test_size = 0.2)\n",
    "    model.fit(x_temp, y_temp, epochs=1, batch_size=50)\n",
    "    model.evaluate(x_val, y_val)"
   ]
  },
  {
   "cell_type": "code",
   "execution_count": 139,
   "metadata": {},
   "outputs": [
    {
     "name": "stdout",
     "output_type": "stream",
     "text": [
      "1520/1520 [==============================] - 1s 860us/sample - loss: 0.9188 - acc: 0.8289\n"
     ]
    },
    {
     "data": {
      "text/plain": [
       "[0.9188498716605337, 0.82894737]"
      ]
     },
     "execution_count": 139,
     "metadata": {},
     "output_type": "execute_result"
    }
   ],
   "source": [
    "model.evaluate(x_test, y_test)"
   ]
  },
  {
   "cell_type": "code",
   "execution_count": 141,
   "metadata": {},
   "outputs": [],
   "source": [
    "keras.models.save_model(model, \"noob_lstm.h5\")"
   ]
  },
  {
   "cell_type": "code",
   "execution_count": 145,
   "metadata": {},
   "outputs": [],
   "source": [
    "model2 = keras.models.load_model(\"noob_lstm.h5\", compile=False)"
   ]
  },
  {
   "cell_type": "code",
   "execution_count": 144,
   "metadata": {},
   "outputs": [
    {
     "name": "stdout",
     "output_type": "stream",
     "text": [
      "1520/1520 [==============================] - 1s 507us/sample - loss: 0.9188 - acc: 0.8289\n"
     ]
    },
    {
     "data": {
      "text/plain": [
       "[0.9188498716605337, 0.82894737]"
      ]
     },
     "execution_count": 144,
     "metadata": {},
     "output_type": "execute_result"
    }
   ],
   "source": [
    "model2.evaluate(x_test, y_test)"
   ]
  }
 ],
 "metadata": {
  "kernelspec": {
   "display_name": "Python 3",
   "language": "python",
   "name": "python3"
  },
  "language_info": {
   "codemirror_mode": {
    "name": "ipython",
    "version": 3
   },
   "file_extension": ".py",
   "mimetype": "text/x-python",
   "name": "python",
   "nbconvert_exporter": "python",
   "pygments_lexer": "ipython3",
   "version": "3.6.10"
  }
 },
 "nbformat": 4,
 "nbformat_minor": 2
}
