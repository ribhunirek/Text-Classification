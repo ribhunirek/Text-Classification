{
 "cells": [
  {
   "cell_type": "code",
   "execution_count": 1,
   "metadata": {},
   "outputs": [],
   "source": [
    "import pickle as pkl\n",
    "from collections import Counter"
   ]
  },
  {
   "cell_type": "code",
   "execution_count": 2,
   "metadata": {},
   "outputs": [],
   "source": [
    "token = []\n",
    "words = []\n",
    "emb = []\n",
    "\n",
    "with open('tokenized_words', 'rb') as f:\n",
    "    token = pkl.load(f)\n",
    "    f.close()\n",
    "    \n",
    "with open('Embeddings', 'rb') as f:\n",
    "    emb = pkl.load(f)\n",
    "    f.close()\n",
    "    \n",
    "with open('Vocab', 'rb') as f:\n",
    "    words = pkl.load(f)\n",
    "    f.close()"
   ]
  },
  {
   "cell_type": "code",
   "execution_count": null,
   "metadata": {},
   "outputs": [],
   "source": []
  }
 ],
 "metadata": {
  "kernelspec": {
   "display_name": "Python 3",
   "language": "python",
   "name": "python3"
  },
  "language_info": {
   "codemirror_mode": {
    "name": "ipython",
    "version": 3
   },
   "file_extension": ".py",
   "mimetype": "text/x-python",
   "name": "python",
   "nbconvert_exporter": "python",
   "pygments_lexer": "ipython3",
   "version": "3.6.10"
  }
 },
 "nbformat": 4,
 "nbformat_minor": 2
}
